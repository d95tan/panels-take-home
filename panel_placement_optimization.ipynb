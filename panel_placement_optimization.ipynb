{
 "cells": [
  {
   "cell_type": "markdown",
   "metadata": {},
   "source": [
    "### Solar Panel Placement Optimization Notebook \n",
    "\n",
    "We recommend to write your code in Python, so that your workflow can be seen using this notebook. However, feel free to use other languages and tools that you are comfortable with. \n",
    "\n",
    "Please generate images to illustrate how your algorithm works. \n",
    "\n",
    "Have fun! "
   ]
  },
  {
   "cell_type": "markdown",
   "metadata": {},
   "source": [
    "Run this cell first to define variables and import neccessary libraries"
   ]
  },
  {
   "cell_type": "code",
   "execution_count": 118,
   "metadata": {},
   "outputs": [],
   "source": [
    "from shapely import Polygon, buffer, get_coordinates, bounds, covers, prepare, affinity\n",
    "import matplotlib.pyplot as plt\n",
    "from matplotlib.patches import Polygon as mplPolygon\n",
    "\n",
    "#* All numbers are in meters\n",
    "testCoordinate1 = [(0, 0), (0, 100), (50, 0)]\n",
    "testCoordinate2 = [(1.12, 130.83), (1.12, 160.83), (31.12, 160.83), (31.12, 130.83), (11.12, 100.83), (-11.12, 90.83), (-30.12, 90.83), (-20.182, 120.273)]\n",
    "testCoordinate3 = [(2, 100), (2,160), (131, 160), (35, 200), (11, 300), (-20 , 90), (30, 90)]\n",
    "\n",
    "panelSizes = [(2,1),(2.3,1),(1.8,0.9)] #* (width,heigh)\n",
    "panelGap = 0.02\n",
    "rowSpacing = 0.5\n",
    "\n",
    "COORDS = testCoordinate3\n",
    "PRECISION = 5"
   ]
  },
  {
   "cell_type": "markdown",
   "metadata": {},
   "source": [
    "I'll start by getting the areas of the different rooftops - this will give us a benchmark of our layout's coverage. \n",
    "Formula for calculating area of shape using coordinates of vertices:\n",
    "\n",
    "|((x1y2 - y1x2) + (x2y3 - y2x3) ... + (xny1 - ynx1)) / 2 |"
   ]
  },
  {
   "cell_type": "code",
   "execution_count": 119,
   "metadata": {},
   "outputs": [],
   "source": [
    "\n",
    "def getRoofArea(polygon):\n",
    "  # numerator = 0\n",
    "  # for i in range(len(coords)):\n",
    "  #   nextIndex = (i + 1) % len(coords)\n",
    "  #   numerator += (coords[i][0] * coords[nextIndex][1]) - (coords[i][1] * coords[nextIndex][0])\n",
    "  # area = abs(numerator / 2)\n",
    "  # return area\n",
    "  \n",
    "  #* Scratch that, I found a library (shapely) that deals with geometric objects\n",
    "  return polygon.area"
   ]
  },
  {
   "cell_type": "markdown",
   "metadata": {},
   "source": [
    "# Helper Functions -"
   ]
  },
  {
   "cell_type": "code",
   "execution_count": 120,
   "metadata": {},
   "outputs": [],
   "source": [
    "#* returns an array [half of width, half of length] of given panel size.\n",
    "def getOffsetDistance(panelSize):\n",
    "  return [panelSize[0]/2, panelSize[1]/2]\n",
    "\n",
    "#* returns the area of 1 panel\n",
    "def getPanelArea(panelSize):\n",
    "  return panelSize[0] * panelSize[1]\n",
    "\n",
    "def getCoverageArea(grid, panelSize):\n",
    "  return len(grid) * getPanelArea(panelSize)"
   ]
  },
  {
   "cell_type": "markdown",
   "metadata": {},
   "source": [
    "Starting Point - a point within the roof geometry that a solar panel is guaranteed to fit inside. \n",
    "\n",
    "The function will offset the polygon inwards by half of the longest side of the chosen solar panel, and return the point on this offset curve with the smallest value of X and Y (bottom left)"
   ]
  },
  {
   "cell_type": "code",
   "execution_count": 121,
   "metadata": {},
   "outputs": [],
   "source": [
    "#* not used\n",
    "\n",
    "def getStartingPoint(polygon, panelSize):\n",
    "  offsetDistance = max(getOffsetDistance(panelSize)) * -1\n",
    "  offsetPolygon = buffer(polygon, offsetDistance, cap_style=\"square\", join_style=\"mitre\")\n",
    "  minX, minY, maxX, maxY = bounds(offsetPolygon)\n",
    "  offsetCoordinates = get_coordinates(offsetPolygon).tolist()\n",
    "  startingPoint = []\n",
    "  \n",
    "  for offsetCoord in offsetCoordinates:\n",
    "    if offsetCoord[1] == minY:\n",
    "      if not startingPoint:\n",
    "        startingPoint = offsetCoord\n",
    "      elif offsetCoord[0] < startingPoint[0]:\n",
    "          startingPoint = offsetCoord\n",
    "  \n",
    "  return offsetCoordinates,startingPoint\n",
    "\n",
    "\n",
    "# offset, startingPoint = getStartingPoint(testCoordinate3, panelSizes[0])\n",
    "# print(startingPoint)"
   ]
  },
  {
   "cell_type": "markdown",
   "metadata": {},
   "source": [
    "Alternatively, I could directly offset the minX, minY point and start my grid from there - this will be the method I implemented. \n",
    "\n",
    "Using the starting point and the offset bounding box as the bounds, I generate a grid of points which will be the <u>center points</u> of each individual solar panel.\n",
    "\n",
    "This grid is merely an entire grid of points within the bounding box. I will use an additional function below to filter out the valid points where solar panels can be placed."
   ]
  },
  {
   "cell_type": "code",
   "execution_count": 122,
   "metadata": {},
   "outputs": [],
   "source": [
    "def getGrid(polygon, panelSize, shiftX = 0, shiftY = 0):\n",
    "  offsetX, offsetY = getOffsetDistance(panelSize)\n",
    "  \n",
    "  minX, minY, maxX, maxY = bounds(polygon)\n",
    "\n",
    "  def meterToMM(num):\n",
    "    return int(1000 * num)\n",
    "  \n",
    "  def mmToMeter(num):\n",
    "    return num/1000\n",
    "\n",
    "  #* redefine all variables in mm as to avoid errors in using float values\n",
    "  startXmm = meterToMM(minX + offsetX)\n",
    "  startYmm = meterToMM(minY + offsetY)\n",
    "  maxXmm = meterToMM(maxX - offsetX)\n",
    "  maxYmm = meterToMM(maxY - offsetY)\n",
    "  shiftXmm = meterToMM(shiftX)\n",
    "  shiftYmm = meterToMM(shiftY)\n",
    "  rowSpacingmm = meterToMM(rowSpacing)\n",
    "  panelGapmm = meterToMM(panelGap)\n",
    "  panelXmm = meterToMM(panelSize[0])\n",
    "  panelYmm = meterToMM(panelSize[1])\n",
    "  \n",
    "  grid = []\n",
    "  \n",
    "  for y in range(startYmm + shiftYmm, maxYmm, panelYmm + rowSpacingmm):\n",
    "    for x in range(startXmm + shiftXmm, maxXmm, panelXmm + panelGapmm):\n",
    "      #* conversion back to Meters\n",
    "      grid.append([mmToMeter(x) ,mmToMeter(y)])\n",
    "    \n",
    "  return grid"
   ]
  },
  {
   "cell_type": "markdown",
   "metadata": {},
   "source": [
    "This function will take each point in the grid and extrapolate the 4 corner points of the solar panel, then check if all corners are \"contained\" within the roof polygon. If yes, then this is a valid solar panel placement."
   ]
  },
  {
   "cell_type": "code",
   "execution_count": 123,
   "metadata": {},
   "outputs": [],
   "source": [
    "def panelsOnRoof(polygon, grid, panelSize):\n",
    "  validGrid = []\n",
    "  offsetX, offsetY = getOffsetDistance(panelSize)\n",
    "  for point in grid:\n",
    "    x,y = point\n",
    "    minusX = x - offsetX\n",
    "    addX = x + offsetX\n",
    "    minusY = y - offsetY\n",
    "    addY = y + offsetY\n",
    "    \n",
    "    topLeft = (minusX, addY)\n",
    "    topRight = (addX, addY)\n",
    "    bottomLeft = (minusX, minusY)\n",
    "    bottomRight = (addX, minusY)\n",
    "    \n",
    "    panelCoords = [topLeft, topRight,bottomRight,bottomLeft]\n",
    "    panelPolygon = Polygon(panelCoords)\n",
    "    \n",
    "    if covers(polygon,panelPolygon):\n",
    "      validGrid.append(panelCoords)\n",
    "    \n",
    "  return validGrid "
   ]
  },
  {
   "cell_type": "markdown",
   "metadata": {},
   "source": [
    "Create a function to visualise the rooftop shapes using matplotlib"
   ]
  },
  {
   "cell_type": "code",
   "execution_count": 124,
   "metadata": {},
   "outputs": [],
   "source": [
    "def visualiseRooftop(roofCoords, panelGrid):\n",
    "  x = []\n",
    "  y = []\n",
    "  fig, ax = plt.subplots()\n",
    "\n",
    "  for coord in roofCoords:\n",
    "    # plt.plot(coord[0], coord[1], marker = \"o\")\n",
    "    x.append(coord[0])\n",
    "    y.append(coord[1])\n",
    "    \n",
    "  x.append(roofCoords[0][0])\n",
    "  y.append(roofCoords[0][1])\n",
    "\n",
    "  ax.plot(x,y, color=\"black\")\n",
    "  ax.fill(x,y, color=\"lightgrey\")\n",
    "\n",
    "  for panelCorners in panelGrid:\n",
    "    panelPolygon = mplPolygon(panelCorners, closed=True, facecolor=\"mediumblue\")\n",
    "    ax.add_patch(panelPolygon)\n",
    "    # plt.plot(panel[0],panel[1], marker = \"s\")\n",
    "    \n",
    "  ax.autoscale()\n",
    "  ax.set_aspect(\"equal\", \"box\")\n",
    "  plt.show()\n",
    "  \n",
    "  return"
   ]
  },
  {
   "cell_type": "markdown",
   "metadata": {},
   "source": [
    "## Algorithm discussion\n",
    "During my [M.Arch thesis](https://www.ar-dan.com/what-the-farm), I used Rhino and Grasshopper to run simulations on building rooftops and facades - the general idea was to see if any slight rotations in buildings could lead to significantly more sunlight for vertical farming. The program used an evolutionary algorithm to return the ideal configuration.\n",
    "\n",
    "Doing something similar was my first thought when I saw the assignment, but thinking deeper about it, I don't think its the correct path to go down. The key differences was that the daylight simulations I had previously used were very computationally intensive, taking 3-5min per simulation, and I had about 5 buildings to rotate. Using an evolutionary algorithm meant that I didn't need to test all possible permutations, but could narrow down quickly and reduce computation time. Perhaps this is something that could be explored further in the future.\n",
    "\n",
    "Additionally, since one of the assignment's objective is to assess the quality of my thought process, I will work to develop my algorithm rather than just plugging the data into an already developed algorithm.\n",
    "\n",
    "My first instinct was that I should start without rotation, and just differing panel sizes. However, after more time spent thinking about the problem, my hypothesis (and what I will build my algorithm off) is that:\n",
    "- The **rotation will actually have the largest impact on coverage** (may not apply to all cases, will discuss my assumptions later). \n",
    "- Choose the best rotation (perhaps include more rotation values if the preliminary results are close)\n",
    "- Test all combinations of panel sizes and shifting (x & y)"
   ]
  },
  {
   "cell_type": "markdown",
   "metadata": {},
   "source": [
    "### Rotation\n",
    "There are 2 main optimisations that I think will significantly reduce the computational requirements.\n",
    "- Instead of rotating the solar panels itself (which will make keeping the aligned rows and columns difficult), we can simply <u>rotate the roof</u> to achieve the same result. Thus, the solar panels will always be aligned orthogonally. \n",
    "- Instead of testing rotation based on a fixed \"step\" (e.g testing in increments of 5 degrees), my instinct tells me that the best orientations would be when at least <u>1 edge is at 0 degrees</u>. \n",
    "\n",
    "Using trigonometry, I can calculate the angle of the edge with the coordinates of adjacent vertices. It is important to include the normal (90 degree) rotation as well, to account for the 2 possible orientations of the solar panel itself.\n",
    "\n"
   ]
  },
  {
   "cell_type": "code",
   "execution_count": 125,
   "metadata": {},
   "outputs": [],
   "source": [
    "import math\n",
    "\n",
    "def getEdgeAngles(roofCoords):\n",
    "  angles = set()\n",
    "  for i in range(len(roofCoords)):\n",
    "    currPoint = roofCoords[i]\n",
    "    nextPoint = roofCoords[(i + 1) % len(roofCoords)]\n",
    "    \n",
    "    #* calculate the angle using arc tangent (opposite/adjacent)\n",
    "    height = nextPoint[1] - currPoint[1]\n",
    "    length = nextPoint[0] - currPoint[0]\n",
    "    angle = math.degrees(math.atan2(height,length))\n",
    "    \n",
    "    #* check if opposite of angle is already in the set (no point checking both 30 degrees and 210 degrees (180 + 30))\n",
    "    if angle >= 180:\n",
    "      if angle - 180 not in angles:\n",
    "        angles.add(angle)\n",
    "        angles.add((angle + 90) % 180)\n",
    "    else:\n",
    "      angles.add(angle)\n",
    "      angles.add((angle + 90) % 180)\n",
    "      \n",
    "  return list(angles)"
   ]
  },
  {
   "cell_type": "code",
   "execution_count": 126,
   "metadata": {},
   "outputs": [
    {
     "name": "stdout",
     "output_type": "stream",
     "text": [
      "angle: 0.0 \n",
      " coverage area: 4140\n",
      "angle: 160.3461759419467 \n",
      " coverage area: 4068\n",
      "angle: 67.38013505195957 \n",
      " coverage area: 4094\n",
      "angle: 70.34617594194671 \n",
      " coverage area: 4106\n",
      "angle: 103.49573328079582 \n",
      " coverage area: 4132\n",
      "angle: 171.60269741331024 \n",
      " coverage area: 4100\n",
      "angle: 13.495733280795832 \n",
      " coverage area: 4120\n",
      "angle: 90.0 \n",
      " coverage area: 4188\n",
      "angle: 157.38013505195957 \n",
      " coverage area: 4054\n",
      "angle: -98.39730258668975 \n",
      " coverage area: 4134\n",
      "90.0 4188\n",
      "4184 (2, 1) 0.4 0.2\n",
      "4182 (2, 1) 0.4 0.4\n",
      "4194 (2, 1) 0.4 0.6\n",
      "4208 (2, 1) 0.4 0.8\n",
      "4054 (2, 1) 0.8 0.2\n",
      "4068 (2, 1) 0.8 0.4\n",
      "4066 (2, 1) 0.8 0.6\n",
      "4084 (2, 1) 0.8 0.8\n",
      "4094 (2, 1) 1.2 0.2\n",
      "4116 (2, 1) 1.2 0.4\n",
      "4118 (2, 1) 1.2 0.6\n",
      "4118 (2, 1) 1.2 0.8\n",
      "4140 (2, 1) 1.6 0.2\n",
      "4150 (2, 1) 1.6 0.4\n",
      "4166 (2, 1) 1.6 0.6\n",
      "4166 (2, 1) 1.6 0.8\n",
      "4176.799999999999 (2.3, 1) 0.45999999999999996 0.2\n",
      "4188.299999999999 (2.3, 1) 0.45999999999999996 0.4\n",
      "4192.9 (2.3, 1) 0.45999999999999996 0.6\n",
      "4204.4 (2.3, 1) 0.45999999999999996 0.8\n",
      "4038.7999999999997 (2.3, 1) 0.9199999999999999 0.2\n",
      "4045.7 (2.3, 1) 0.9199999999999999 0.4\n",
      "4057.2 (2.3, 1) 0.9199999999999999 0.6\n",
      "4066.3999999999996 (2.3, 1) 0.9199999999999999 0.8\n",
      "4022.7 (2.3, 1) 1.38 0.2\n",
      "4036.4999999999995 (2.3, 1) 1.38 0.4\n",
      "4043.3999999999996 (2.3, 1) 1.38 0.6\n",
      "4050.2999999999997 (2.3, 1) 1.38 0.8\n",
      "4075.6 (2.3, 1) 1.8399999999999999 0.2\n",
      "4082.4999999999995 (2.3, 1) 1.8399999999999999 0.4\n",
      "4093.9999999999995 (2.3, 1) 1.8399999999999999 0.6\n",
      "4100.9 (2.3, 1) 1.8399999999999999 0.8\n",
      "3988.44 (1.8, 0.9) 0.36000000000000004 0.18000000000000002\n",
      "3996.5400000000004 (1.8, 0.9) 0.36000000000000004 0.36000000000000004\n",
      "4007.88 (1.8, 0.9) 0.36000000000000004 0.54\n",
      "4009.5000000000005 (1.8, 0.9) 0.36000000000000004 0.7200000000000001\n",
      "3980.34 (1.8, 0.9) 0.7200000000000001 0.18000000000000002\n",
      "3981.96 (1.8, 0.9) 0.7200000000000001 0.36000000000000004\n",
      "3993.3 (1.8, 0.9) 0.7200000000000001 0.54\n",
      "3999.78 (1.8, 0.9) 0.7200000000000001 0.7200000000000001\n",
      "4015.9800000000005 (1.8, 0.9) 1.08 0.18000000000000002\n",
      "4022.4600000000005 (1.8, 0.9) 1.08 0.36000000000000004\n",
      "4032.1800000000003 (1.8, 0.9) 1.08 0.54\n",
      "4040.28 (1.8, 0.9) 1.08 0.7200000000000001\n",
      "4054.86 (1.8, 0.9) 1.4400000000000002 0.18000000000000002\n",
      "4064.5800000000004 (1.8, 0.9) 1.4400000000000002 0.36000000000000004\n",
      "4067.82 (1.8, 0.9) 1.4400000000000002 0.54\n",
      "4077.5400000000004 (1.8, 0.9) 1.4400000000000002 0.7200000000000001\n",
      "BEST: 90.0 (0.4, 0.8) (2, 1) 4208\n"
     ]
    }
   ],
   "source": [
    "def main():\n",
    "  roofPolygon = Polygon(COORDS)\n",
    "  \n",
    "  #* get roof angles\n",
    "  angles = getEdgeAngles(COORDS)\n",
    "  \n",
    "  #* a quick test for my hypothesis - to check if \"odd\" angles can achieve better results. Fortunately my hypothesis seems to be correct.\n",
    "  #* this can significantly reduce the computational requirements\n",
    "  # angles = []\n",
    "  # for num in range(0, 360, 5):\n",
    "  #   angles.append(num)\n",
    "  \n",
    "  maxCoverage = 0\n",
    "  \n",
    "  for angle in angles:\n",
    "    rotatedRoof = affinity.rotate(roofPolygon, angle)\n",
    "    \n",
    "    #* preparing will reduce computational load for complex roof shapes\n",
    "    prepare(rotatedRoof)\n",
    "  \n",
    "    gridOfCenters = getGrid(rotatedRoof, panelSizes[0])\n",
    "    gridOfValidPanels = panelsOnRoof(rotatedRoof,gridOfCenters, panelSizes[0])\n",
    "    coverageArea = getCoverageArea(gridOfValidPanels, panelSizes[0])\n",
    "    if coverageArea > maxCoverage:\n",
    "      maxCoverage = coverageArea\n",
    "      bestRoof = rotatedRoof\n",
    "      bestAngle = angle\n",
    "    print(\"angle:\", angle, \"\\n coverage area:\", coverageArea)\n",
    "  \n",
    "  print(bestAngle, maxCoverage)\n",
    "  bestXY = (0,0)\n",
    "  bestPanel = panelSizes[0]\n",
    "  \n",
    "  for panelSize in panelSizes:\n",
    "    for shiftXfrac in range(1,PRECISION):\n",
    "      for shiftYfrac in range(1,PRECISION):\n",
    "        shiftX = panelSize[0] * (shiftXfrac / PRECISION)\n",
    "        shiftY = panelSize[1] * (shiftYfrac / PRECISION)\n",
    "        gridOfCenters = getGrid(bestRoof, panelSize, shiftX, shiftY)\n",
    "        gridOfValidPanels = panelsOnRoof(bestRoof, gridOfCenters, panelSize)\n",
    "        coverageArea = getCoverageArea(gridOfValidPanels, panelSize)\n",
    "        print(coverageArea, panelSize, shiftX, shiftY)\n",
    "        if coverageArea > maxCoverage:\n",
    "          maxCoverage = coverageArea\n",
    "          bestXY = shiftX, shiftY\n",
    "          bestPanel = panelSize\n",
    "          bestGrid = gridOfValidPanels\n",
    "          \n",
    "  print(\"BEST:\", bestAngle, bestXY, bestPanel, maxCoverage)\n",
    "  \n",
    "  # roofArea = getRoofArea(roofPolygon)\n",
    "  # print(\"Roof Area:\", roofArea)\n",
    "  \n",
    "  # visualiseRooftop(COORDS, gridOfValidPanels)\n",
    "  \n",
    "main()"
   ]
  },
  {
   "cell_type": "markdown",
   "metadata": {},
   "source": [
    "### Limitations:\n",
    "\n",
    "- Circular roofs, or roofs with many many edges. Roof geometry should ideally be \"clean\"."
   ]
  },
  {
   "cell_type": "code",
   "execution_count": null,
   "metadata": {},
   "outputs": [],
   "source": []
  }
 ],
 "metadata": {
  "kernelspec": {
   "display_name": "Python 3",
   "language": "python",
   "name": "python3"
  },
  "language_info": {
   "codemirror_mode": {
    "name": "ipython",
    "version": 3
   },
   "file_extension": ".py",
   "mimetype": "text/x-python",
   "name": "python",
   "nbconvert_exporter": "python",
   "pygments_lexer": "ipython3",
   "version": "3.11.7"
  }
 },
 "nbformat": 4,
 "nbformat_minor": 2
}
