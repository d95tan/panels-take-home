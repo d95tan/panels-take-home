{
 "cells": [
  {
   "cell_type": "markdown",
   "metadata": {},
   "source": [
    "### Solar Panel Placement Optimization Notebook \n",
    "\n",
    "We recommend to write your code in Python, so that your workflow can be seen using this notebook. However, feel free to use other languages and tools that you are comfortable with. \n",
    "\n",
    "Please generate images to illustrate how your algorithm works. \n",
    "\n",
    "Have fun! "
   ]
  },
  {
   "cell_type": "markdown",
   "metadata": {},
   "source": [
    "Run this cell first to define variables and import neccessary libraries"
   ]
  },
  {
   "cell_type": "code",
   "execution_count": 256,
   "metadata": {},
   "outputs": [],
   "source": [
    "from shapely import Polygon, buffer, get_coordinates, bounds, covers, prepare\n",
    "import matplotlib.pyplot as plt\n",
    "from matplotlib.patches import Polygon as mplPolygon\n",
    "\n",
    "# All numbers are in meters\n",
    "testCoordinate1 = [(0, 0), (0, 100), (50, 0)]\n",
    "testCoordinate2 = [(1.12, 130.83), (1.12, 160.83), (31.12, 160.83), (31.12, 130.83), (11.12, 100.83), (-11.12, 90.83), (-30.12, 90.83), (-20.182, 120.273)]\n",
    "testCoordinate3 = [(2, 100), (2,160), (131, 160), (35, 200), (11, 300), (-20 , 90), (30, 90)]\n",
    "\n",
    "COORDS = testCoordinate3\n",
    "panelSizes = [(2,1),(2.3,1),(1.8,0.9)] # (width,heigh)\n",
    "panelGap = 0.02\n",
    "rowSpacing = 0.5\n"
   ]
  },
  {
   "cell_type": "markdown",
   "metadata": {},
   "source": [
    "I'll start by getting the areas of the different rooftops - this will give us a benchmark of our layout's coverage. \n",
    "Formula for calculating area of shape using coordinates of vertices:\n",
    "\n",
    "|((x1y2 - y1x2) + (x2y3 - y2x3) ... + (xny1 - ynx1)) / 2 |"
   ]
  },
  {
   "cell_type": "code",
   "execution_count": 257,
   "metadata": {},
   "outputs": [],
   "source": [
    "\n",
    "def getRoofArea(polygon):\n",
    "  # numerator = 0\n",
    "  # for i in range(len(coords)):\n",
    "  #   nextIndex = (i + 1) % len(coords)\n",
    "  #   numerator += (coords[i][0] * coords[nextIndex][1]) - (coords[i][1] * coords[nextIndex][0])\n",
    "  # area = abs(numerator / 2)\n",
    "  # return area\n",
    "  \n",
    "  #* Scratch that, I found a library (shapely) that deals with geometric objects\n",
    "  return polygon.area"
   ]
  },
  {
   "cell_type": "markdown",
   "metadata": {},
   "source": [
    "# Helper Functions -"
   ]
  },
  {
   "cell_type": "code",
   "execution_count": 258,
   "metadata": {},
   "outputs": [],
   "source": [
    "# returns an array [half of width, half of length] of given panel size.\n",
    "def getOffsetDistance(panelSize):\n",
    "  return [panelSize[0]/2, panelSize[1]/2]\n",
    "\n",
    "# returns the area of 1 panel\n",
    "def getPanelArea(panelSize):\n",
    "  return panelSize[0] * panelSize[1]"
   ]
  },
  {
   "cell_type": "markdown",
   "metadata": {},
   "source": [
    "Starting Point - a point within the roof geometry that a solar panel is guaranteed to fit inside. \n",
    "\n",
    "The function will offset the polygon inwards by half of the longest side of the chosen solar panel, and return the point on this offset curve with the smallest value of X and Y (bottom left)"
   ]
  },
  {
   "cell_type": "code",
   "execution_count": 259,
   "metadata": {},
   "outputs": [],
   "source": [
    "# not used\n",
    "\n",
    "def getStartingPoint(polygon, panelSize):\n",
    "  offsetDistance = max(getOffsetDistance(panelSize)) * -1\n",
    "  offsetPolygon = buffer(polygon, offsetDistance, cap_style=\"square\", join_style=\"mitre\")\n",
    "  minX, minY, maxX, maxY = bounds(offsetPolygon)\n",
    "  offsetCoordinates = get_coordinates(offsetPolygon).tolist()\n",
    "  startingPoint = []\n",
    "  \n",
    "  for offsetCoord in offsetCoordinates:\n",
    "    if offsetCoord[1] == minY:\n",
    "      if not startingPoint:\n",
    "        startingPoint = offsetCoord\n",
    "      elif offsetCoord[0] < startingPoint[0]:\n",
    "          startingPoint = offsetCoord\n",
    "  \n",
    "  return offsetCoordinates,startingPoint\n",
    "\n",
    "\n",
    "# offset, startingPoint = getStartingPoint(testCoordinate3, panelSizes[0])\n",
    "# print(startingPoint)"
   ]
  },
  {
   "cell_type": "markdown",
   "metadata": {},
   "source": [
    "Alternatively, I could directly offset the minX, minY point and start my grid from there - this will be the method I implemented. \n",
    "\n",
    "Using the starting point and the offset bounding box as the bounds, I generate a grid of points which will be the <u>center points</u> of each individual solar panel.\n",
    "\n",
    "This grid is merely an entire grid of points within the bounding box. I will use an additional function below to filter out the valid points where solar panels can be placed."
   ]
  },
  {
   "cell_type": "code",
   "execution_count": 260,
   "metadata": {},
   "outputs": [],
   "source": [
    "def getGrid(polygon, panelSize, shiftX = 0, shiftY = 0):\n",
    "  offsetX, offsetY = getOffsetDistance(panelSize)\n",
    "  \n",
    "  minX, minY, maxX, maxY = bounds(polygon)\n",
    "\n",
    "  def meterToMM(num):\n",
    "    return int(1000 * num)\n",
    "  \n",
    "  def mmToMeter(num):\n",
    "    return num/1000\n",
    "\n",
    "  # redefine all variables in mm as to avoid errors in using float values\n",
    "  startXmm = meterToMM(minX + offsetX)\n",
    "  startYmm = meterToMM(minY + offsetY)\n",
    "  maxXmm = meterToMM(maxX - offsetX)\n",
    "  maxYmm = meterToMM(maxY - offsetY)\n",
    "  shiftXmm = meterToMM(shiftX)\n",
    "  shiftYmm = meterToMM(shiftY)\n",
    "  rowSpacingmm = meterToMM(rowSpacing)\n",
    "  panelGapmm = meterToMM(panelGap)\n",
    "  panelXmm = meterToMM(panelSize[0])\n",
    "  panelYmm = meterToMM(panelSize[1])\n",
    "  \n",
    "  grid = []\n",
    "  \n",
    "  for y in range(startYmm + shiftYmm, maxYmm, panelYmm + rowSpacingmm):\n",
    "    for x in range(startXmm + shiftXmm, maxXmm, panelXmm + panelGapmm):\n",
    "      # conversion back to Meters\n",
    "      grid.append([mmToMeter(x) ,mmToMeter(y)])\n",
    "    \n",
    "  return grid"
   ]
  },
  {
   "cell_type": "markdown",
   "metadata": {},
   "source": [
    "This function will take each point in the grid and extrapolate the 4 corner points of the solar panel, then check if all corners are \"contained\" within the roof polygon. If yes, then this is a valid solar panel placement."
   ]
  },
  {
   "cell_type": "code",
   "execution_count": 261,
   "metadata": {},
   "outputs": [],
   "source": [
    "def panelsOnRoof(polygon, grid, panelSize):\n",
    "  validGrid = []\n",
    "  offsetX, offsetY = getOffsetDistance(panelSize)\n",
    "  for point in grid:\n",
    "    x,y = point\n",
    "    minusX = x - offsetX\n",
    "    addX = x + offsetX\n",
    "    minusY = y - offsetY\n",
    "    addY = y + offsetY\n",
    "    \n",
    "    topLeft = (minusX, addY)\n",
    "    topRight = (addX, addY)\n",
    "    bottomLeft = (minusX, minusY)\n",
    "    bottomRight = (addX, minusY)\n",
    "    \n",
    "    panelCoords = [topLeft, topRight,bottomRight,bottomLeft]\n",
    "    panelPolygon = Polygon(panelCoords)\n",
    "    \n",
    "    if covers(polygon,panelPolygon):\n",
    "      validGrid.append(panelCoords)\n",
    "    \n",
    "  return validGrid "
   ]
  },
  {
   "cell_type": "markdown",
   "metadata": {},
   "source": [
    "Create a function to visualise the rooftop shapes using matplotlib"
   ]
  },
  {
   "cell_type": "code",
   "execution_count": 262,
   "metadata": {},
   "outputs": [],
   "source": [
    "def visualiseRooftop(roofCoords, panelGrid):\n",
    "  x = []\n",
    "  y = []\n",
    "  fig, ax = plt.subplots()\n",
    "\n",
    "  for coord in roofCoords:\n",
    "    # plt.plot(coord[0], coord[1], marker = \"o\")\n",
    "    x.append(coord[0])\n",
    "    y.append(coord[1])\n",
    "    \n",
    "  x.append(roofCoords[0][0])\n",
    "  y.append(roofCoords[0][1])\n",
    "\n",
    "  ax.plot(x,y, color=\"black\")\n",
    "  ax.fill(x,y, color=\"lightgrey\")\n",
    "\n",
    "  for panelCorners in panelGrid:\n",
    "    panelPolygon = mplPolygon(panelCorners, closed=True, facecolor=\"mediumblue\")\n",
    "    ax.add_patch(panelPolygon)\n",
    "    # plt.plot(panel[0],panel[1], marker = \"s\")\n",
    "    \n",
    "  ax.autoscale()\n",
    "  ax.set_aspect(\"equal\", \"box\")\n",
    "  plt.show()\n",
    "  \n",
    "  return"
   ]
  },
  {
   "cell_type": "markdown",
   "metadata": {},
   "source": [
    "## Algorithm discussion\n",
    "During my [M.Arch thesis](https://www.ar-dan.com/what-the-farm), I used Rhino and Grasshopper to run simulations on building rooftops and facades - the general idea was to see if any slight rotations in buildings could lead to significantly more sunlight for vertical farming. The program used an evolutionary algorithm to return the ideal configuration.\n",
    "\n",
    "Doing something similar was my first thought when I saw the assignment, but thinking deeper about it, I don't think its the correct path to go down. The key differences was that the daylight simulations I had previously used were very computationally intensive, taking 3-5min per simulation, and I had about 5 buildings to rotate. Using an evolutionary algorithm meant that I didn't need to test all possible permutations, but could narrow down quickly and reduce computation time. Perhaps this is something that could be explored further in the future.\n",
    "\n",
    "Additionally, since one of the assignment's objective is to assess the quality of my thought process, I will work to develop my algorithm rather than just plugging the data into an already developed algorithm.\n",
    "\n",
    "My first instinct was that I should start without rotation, and just differing panel sizes. However, after more time spent thinking about the problem, my hypothesis (and what I will build my algorithm off) is that:\n",
    "- The **rotation will actually have the largest impact on coverage** (may not apply to all cases, will discuss my assumptions later). \n",
    "- Choose the best rotation (perhaps include more rotation values if the preliminary results are close)\n",
    "- Test panel sizes and shifting"
   ]
  },
  {
   "cell_type": "markdown",
   "metadata": {},
   "source": [
    "### Rotation\n",
    "There are 2 main optimisations that I think will significantly reduce the computational requirements.\n",
    "- Instead of rotating the solar panels itself (which will make keeping the aligned rows and columns difficult), we can simply <u>rotate the roof</u> to achieve the same result. Thus, the solar panels will always be aligned orthogonally. \n",
    "- Instead of testing rotation based on a fixed \"step\" (e.g testing in increments of 5 degrees), my instinct tells me that the best orientations would be when at least <u>1 edge is at 0 degrees</u>. \n",
    "\n",
    "Using trigonometry, I can calculate the angle of the edge with the coordinates of adjacent vertices. It is important to include the normal (90 degree) rotation as well, to account for the 2 possible orientations of the solar panel itself.\n",
    "\n"
   ]
  },
  {
   "cell_type": "code",
   "execution_count": 263,
   "metadata": {},
   "outputs": [],
   "source": [
    "import math\n",
    "\n",
    "def getEdgeAngles(roofCoords):\n",
    "  angles = set()\n",
    "  for i in range(len(roofCoords)):\n",
    "    currPoint = roofCoords[i]\n",
    "    nextPoint = roofCoords[(i + 1) % len(roofCoords)]\n",
    "    \n",
    "    # calculate the angle using arc tangent (opposite/adjacent)\n",
    "    height = nextPoint[1] - currPoint[1]\n",
    "    length = nextPoint[0] - currPoint[0]\n",
    "    angle = math.degrees(math.atan2(height,length))\n",
    "    \n",
    "    # check if opposite of angle is already in the set (no point checking both 30 degrees and 210 degrees (180 + 30))\n",
    "    if angle >= 180:\n",
    "      if angle - 180 not in angles:\n",
    "        angles.add(angle)\n",
    "        angles.add((angle + 90) % 180)\n",
    "    else:\n",
    "      angles.add(angle)\n",
    "      angles.add((angle + 90) % 180)\n",
    "      \n",
    "  return list(angles)"
   ]
  },
  {
   "cell_type": "code",
   "execution_count": 264,
   "metadata": {},
   "outputs": [
    {
     "name": "stdout",
     "output_type": "stream",
     "text": [
      "[0.0, 160.3461759419467, 67.38013505195957, 70.34617594194671, 103.49573328079582, 171.60269741331024, 13.495733280795832, 90.0, 157.38013505195957, -98.39730258668975]\n",
      "Roof Area: 6845.0\n",
      "2070\n"
     ]
    },
    {
     "data": {
      "image/png": "[encoded data removed]",
      "text/plain": [
       "<Figure size 640x480 with 1 Axes>"
      ]
     },
     "metadata": {},
     "output_type": "display_data"
    }
   ],
   "source": [
    "def main():\n",
    "  roofPolygon = Polygon(COORDS)\n",
    "  \n",
    "  # preparing will reduce computational load for complex roof shapes\n",
    "  prepare(roofPolygon)\n",
    "  \n",
    "  #get roof angles\n",
    "  angles = getEdgeAngles(COORDS)\n",
    "  print(angles)\n",
    "  roofArea = getRoofArea(roofPolygon)\n",
    "  print(\"Roof Area:\", roofArea)\n",
    "  \n",
    "  gridOfCenters = getGrid(roofPolygon, panelSizes[0])\n",
    "  gridOfValidPanels = panelsOnRoof(roofPolygon,gridOfCenters, panelSizes[0])\n",
    "  print(len(gridOfValidPanels))\n",
    "  visualiseRooftop(COORDS, gridOfValidPanels)\n",
    "  \n",
    "main()"
   ]
  },
  {
   "cell_type": "code",
   "execution_count": null,
   "metadata": {},
   "outputs": [],
   "source": []
  }
 ],
 "metadata": {
  "kernelspec": {
   "display_name": "Python 3",
   "language": "python",
   "name": "python3"
  },
  "language_info": {
   "codemirror_mode": {
    "name": "ipython",
    "version": 3
   },
   "file_extension": ".py",
   "mimetype": "text/x-python",
   "name": "python",
   "nbconvert_exporter": "python",
   "pygments_lexer": "ipython3",
   "version": "3.11.7"
  }
 },
 "nbformat": 4,
 "nbformat_minor": 2
}
